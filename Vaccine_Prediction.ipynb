{
 "cells": [
  {
   "cell_type": "markdown",
   "id": "ab68e0c6",
   "metadata": {},
   "source": [
    "\n",
    "<h1> Vaccinated Prediction - by Karthik Raj. R"
   ]
  },
  {
   "cell_type": "code",
   "execution_count": null,
   "id": "94f7e9c5",
   "metadata": {},
   "outputs": [],
   "source": [
    "import math\n",
    "import numpy as np\n",
    "import pandas as pd\n",
    "import seaborn as sns\n",
    "from matplotlib import pyplot as plt\n",
    "from math import radians, cos, sin, asin, sqrt"
   ]
  },
  {
   "cell_type": "markdown",
   "id": "098604db",
   "metadata": {},
   "source": [
    "<h1> Summary of the models built and its result"
   ]
  },
  {
   "attachments": {
    "image.png": {
     "image/png": "[encoded data removed]"
    }
   },
   "cell_type": "markdown",
   "id": "f8c225d9",
   "metadata": {},
   "source": [
    "![image.png](attachment:image.png)"
   ]
  },
  {
   "cell_type": "markdown",
   "id": "d8f8f739",
   "metadata": {},
   "source": [
    "<b> Data Analysis and Model Building"
   ]
  },
  {
   "cell_type": "code",
   "execution_count": null,
   "id": "4baeb04c",
   "metadata": {},
   "outputs": [],
   "source": [
    "# load the csv file\n",
    "df=pd.read_csv(\"https://raw.githubusercontent.com/Premalatha-success/Datasets/main/h1n1_vaccine_prediction.csv\")"
   ]
  },
  {
   "cell_type": "code",
   "execution_count": null,
   "id": "151af0c9",
   "metadata": {},
   "outputs": [],
   "source": [
    "# inspect if the data has been loaded correctly\n",
    "df.head()"
   ]
  },
  {
   "cell_type": "code",
   "execution_count": null,
   "id": "27915661",
   "metadata": {},
   "outputs": [],
   "source": [
    "# verify the dataframe structure and check if there are any nullable records\n",
    "df.info()"
   ]
  },
  {
   "cell_type": "code",
   "execution_count": null,
   "id": "8211bcc8",
   "metadata": {},
   "outputs": [],
   "source": [
    "# verify the # of records and columns\n",
    "df.shape"
   ]
  },
  {
   "cell_type": "code",
   "execution_count": null,
   "id": "9c1379a3",
   "metadata": {},
   "outputs": [],
   "source": [
    "# verify if the provided data set is imbalanced i.e whether target variable has equal representation\n",
    "df['h1n1_vaccine'].value_counts()"
   ]
  },
  {
   "cell_type": "code",
   "execution_count": null,
   "id": "8590de65",
   "metadata": {},
   "outputs": [],
   "source": [
    "#Observatrion it looks data is very much imbalanced, that is we have more representation for not vacinated scenario"
   ]
  },
  {
   "cell_type": "code",
   "execution_count": null,
   "id": "78fe1986",
   "metadata": {},
   "outputs": [],
   "source": [
    "df['antiviral_medication'].value_counts()"
   ]
  },
  {
   "cell_type": "code",
   "execution_count": null,
   "id": "d53063e5",
   "metadata": {},
   "outputs": [],
   "source": [
    "df.isnull().sum()"
   ]
  },
  {
   "cell_type": "code",
   "execution_count": null,
   "id": "5a382474",
   "metadata": {},
   "outputs": [],
   "source": [
    "df = df.fillna(0)"
   ]
  },
  {
   "cell_type": "markdown",
   "id": "2609988e",
   "metadata": {},
   "source": [
    "<b> Handle Categorical Variables (it should be converted as numeric value to build the model)"
   ]
  },
  {
   "cell_type": "code",
   "execution_count": null,
   "id": "651456f1",
   "metadata": {},
   "outputs": [],
   "source": [
    "# analyze various income_level\n",
    "df['income_level'].value_counts()"
   ]
  },
  {
   "cell_type": "code",
   "execution_count": null,
   "id": "7b223884",
   "metadata": {},
   "outputs": [],
   "source": [
    "# Handle Income_level categorical variable\n",
    "dummies = pd.get_dummies(df['income_level'],drop_first=True)\n",
    "df = pd.concat([df, dummies], axis='columns')\n",
    "df.drop(['income_level'], axis='columns',  inplace = True)\n",
    "df.head()"
   ]
  },
  {
   "cell_type": "code",
   "execution_count": null,
   "id": "f330e2b1",
   "metadata": {},
   "outputs": [],
   "source": [
    "# Rename column heading\n",
    "df.rename(columns = {'> $75,000':'Income > $75,000'}, inplace = True)\n",
    "df.rename(columns = {'Below Poverty':'Income BelowPoverty'}, inplace = True)\n"
   ]
  },
  {
   "cell_type": "code",
   "execution_count": null,
   "id": "274b835d",
   "metadata": {},
   "outputs": [],
   "source": [
    "# Analyse Sex Variable\n",
    "df['sex'].value_counts()"
   ]
  },
  {
   "cell_type": "code",
   "execution_count": null,
   "id": "7700040b",
   "metadata": {},
   "outputs": [],
   "source": [
    "# Encode sex variable such that Male should be represented as 1 and female should be represented as 0\n",
    "df['sex_enc'] = df['sex'].apply(lambda x: 1 if x == 'Male' else 0 )"
   ]
  },
  {
   "cell_type": "code",
   "execution_count": null,
   "id": "b63ee9eb",
   "metadata": {},
   "outputs": [],
   "source": [
    "# inspect the encoded value\n",
    "df[['sex','sex_enc']]"
   ]
  },
  {
   "cell_type": "code",
   "execution_count": null,
   "id": "8a421094",
   "metadata": {},
   "outputs": [],
   "source": [
    "# Drop sex variable\n",
    "df.drop(['sex'], axis='columns',  inplace = True)"
   ]
  },
  {
   "cell_type": "code",
   "execution_count": null,
   "id": "e4785891",
   "metadata": {},
   "outputs": [],
   "source": [
    "# Analyze qualification variable\n",
    "df['qualification'].value_counts()"
   ]
  },
  {
   "cell_type": "code",
   "execution_count": null,
   "id": "bd0fdbc6",
   "metadata": {},
   "outputs": [],
   "source": [
    "# Handle qualification variable\n",
    "dummies = pd.get_dummies(df['qualification'],drop_first=True)\n",
    "df = pd.concat([df, dummies], axis='columns')\n",
    "df.drop(['qualification'], axis='columns',  inplace = True)\n",
    "df.head()"
   ]
  },
  {
   "cell_type": "code",
   "execution_count": null,
   "id": "66916751",
   "metadata": {},
   "outputs": [],
   "source": [
    "# Rename columns\n",
    "df.rename(columns = {'< 12 Years':'Qualification_12Years'}, inplace = True)\n",
    "df.rename(columns = {'College Graduate':'Qualification_Grad'}, inplace = True)\n",
    "df.rename(columns = {'Some College':'Qualification_Other'}, inplace = True)"
   ]
  },
  {
   "cell_type": "code",
   "execution_count": null,
   "id": "c5d012bd",
   "metadata": {},
   "outputs": [],
   "source": [
    "df.head()"
   ]
  },
  {
   "cell_type": "code",
   "execution_count": null,
   "id": "f61e80b6",
   "metadata": {},
   "outputs": [],
   "source": [
    "# Analyze race variable\n",
    "df['race'].value_counts()"
   ]
  },
  {
   "cell_type": "code",
   "execution_count": null,
   "id": "834e7b1a",
   "metadata": {},
   "outputs": [],
   "source": [
    "# Handle race variable\n",
    "dummies = pd.get_dummies(df['race'],drop_first=True)\n",
    "df = pd.concat([df, dummies], axis='columns')\n",
    "df.drop(['race'], axis='columns', inplace = True)\n",
    "df.head()"
   ]
  },
  {
   "cell_type": "code",
   "execution_count": null,
   "id": "3893d16a",
   "metadata": {},
   "outputs": [],
   "source": [
    "# Analyze age bracket variable\n",
    "df['age_bracket'].value_counts()"
   ]
  },
  {
   "cell_type": "code",
   "execution_count": null,
   "id": "4962be4a",
   "metadata": {},
   "outputs": [],
   "source": [
    "# Handle age_bracked variable\n",
    "dummies = pd.get_dummies(df['age_bracket'],drop_first=True)\n",
    "df = pd.concat([df, dummies], axis='columns')\n",
    "df.drop(['age_bracket'], axis='columns', inplace = True)\n",
    "df.head()"
   ]
  },
  {
   "cell_type": "code",
   "execution_count": null,
   "id": "50d37891",
   "metadata": {},
   "outputs": [],
   "source": [
    "# Analyze Marital status variable\n",
    "df['marital_status'].value_counts()           "
   ]
  },
  {
   "cell_type": "code",
   "execution_count": null,
   "id": "bf9ccfb9",
   "metadata": {},
   "outputs": [],
   "source": [
    "# Encode marital status variable such that update Married as 1 otherwise 0 \n",
    "df['marital_status_enc'] = df['marital_status'].apply(lambda x: 1 if x == 'Married' else 0)"
   ]
  },
  {
   "cell_type": "code",
   "execution_count": null,
   "id": "5b4b33ea",
   "metadata": {},
   "outputs": [],
   "source": [
    "# View the encoded value\n",
    "df[['marital_status','marital_status_enc']]"
   ]
  },
  {
   "cell_type": "code",
   "execution_count": null,
   "id": "ecf3f52f",
   "metadata": {},
   "outputs": [],
   "source": [
    "# Drop marital status variable\n",
    "df.drop(['marital_status'], axis='columns', inplace = True)\n"
   ]
  },
  {
   "cell_type": "code",
   "execution_count": null,
   "id": "60b20b5c",
   "metadata": {},
   "outputs": [],
   "source": [
    "# Analyze housing status variable\n",
    "df['housing_status'].value_counts()"
   ]
  },
  {
   "cell_type": "code",
   "execution_count": null,
   "id": "31485ea7",
   "metadata": {},
   "outputs": [],
   "source": [
    "# Encode housing_status variable such at 1 if Own else 0\n",
    "df['housing_status_enc'] = df['housing_status'].apply(lambda x: 1 if x == 'Own' else 0)"
   ]
  },
  {
   "cell_type": "code",
   "execution_count": null,
   "id": "44cf3a41",
   "metadata": {},
   "outputs": [],
   "source": [
    "# inspect the encoded values\n",
    "df[['housing_status','housing_status_enc']]"
   ]
  },
  {
   "cell_type": "code",
   "execution_count": null,
   "id": "b78cc895",
   "metadata": {},
   "outputs": [],
   "source": [
    "# Drop housing_status variable\n",
    "df.drop(['housing_status'], axis='columns',  inplace = True)"
   ]
  },
  {
   "cell_type": "code",
   "execution_count": null,
   "id": "ed67d2ff",
   "metadata": {},
   "outputs": [],
   "source": [
    "# analyze employment variable\n",
    "df['employment'].value_counts()"
   ]
  },
  {
   "cell_type": "code",
   "execution_count": null,
   "id": "62a850e7",
   "metadata": {},
   "outputs": [],
   "source": [
    "# Handle employment variable\n",
    "dummies = pd.get_dummies(df['employment'],drop_first=True)\n",
    "df = pd.concat([df, dummies], axis='columns')\n",
    "df.drop(['employment'], axis='columns', inplace = True)\n",
    "df.head()"
   ]
  },
  {
   "cell_type": "code",
   "execution_count": null,
   "id": "c7e1244c",
   "metadata": {},
   "outputs": [],
   "source": [
    "# Analyze census_msa variable\n",
    "df['census_msa'].value_counts()"
   ]
  },
  {
   "cell_type": "code",
   "execution_count": null,
   "id": "7cf9772b",
   "metadata": {},
   "outputs": [],
   "source": [
    "# handle census_msa variable\n",
    "dummies = pd.get_dummies(df['census_msa'],drop_first=True)\n",
    "df = pd.concat([df, dummies], axis='columns')\n",
    "df.drop(['census_msa'], axis='columns',  inplace = True)\n",
    "df.head()"
   ]
  },
  {
   "cell_type": "code",
   "execution_count": null,
   "id": "e5ef03ee",
   "metadata": {},
   "outputs": [],
   "source": [
    "df.info()"
   ]
  },
  {
   "cell_type": "markdown",
   "id": "602a4a56",
   "metadata": {},
   "source": [
    "<h2> Build a model"
   ]
  },
  {
   "cell_type": "code",
   "execution_count": null,
   "id": "1c10de7a",
   "metadata": {},
   "outputs": [],
   "source": [
    "from sklearn.model_selection import train_test_split\n",
    "from sklearn.linear_model import LogisticRegression\n",
    "from sklearn.preprocessing import StandardScaler"
   ]
  },
  {
   "cell_type": "code",
   "execution_count": null,
   "id": "126fbecd",
   "metadata": {},
   "outputs": [],
   "source": [
    "df.head()"
   ]
  },
  {
   "cell_type": "code",
   "execution_count": null,
   "id": "0fc7d43f",
   "metadata": {},
   "outputs": [],
   "source": [
    "df.drop('unique_id', axis = 1, inplace=True)"
   ]
  },
  {
   "cell_type": "code",
   "execution_count": null,
   "id": "db8d99c6",
   "metadata": {},
   "outputs": [],
   "source": [
    "df.head()"
   ]
  },
  {
   "cell_type": "code",
   "execution_count": null,
   "id": "b86151eb",
   "metadata": {},
   "outputs": [],
   "source": [
    "df.info()"
   ]
  },
  {
   "cell_type": "code",
   "execution_count": null,
   "id": "6400ee36",
   "metadata": {},
   "outputs": [],
   "source": [
    "df = df.astype({\"Income > $75,000\": int })\n",
    "df = df.astype({\"Income BelowPoverty\": int })\n",
    "df = df.astype({\"Qualification_12Years\": int })\n",
    "\n",
    "\n"
   ]
  },
  {
   "cell_type": "code",
   "execution_count": null,
   "id": "095f5631",
   "metadata": {},
   "outputs": [],
   "source": [
    "df = df.astype({\"Hispanic\": int })\n",
    "df = df.astype({\"Other or Multiple\": int })\n",
    "df = df.astype({\"White\": int })\n",
    "df = df.astype({\"35 - 44 Years\": int })\n",
    "df = df.astype({\"45 - 54 Years\": int })\n",
    "df = df.astype({\"55 - 64 Years\": int })\n",
    "df = df.astype({\"65+ Years\": int })\n",
    "df = df.astype({\"Not in Labor Force\": int })\n",
    "df = df.astype({\"Unemployed\": int })\n",
    "df = df.astype({\"MSA, Principle City\": int })\n",
    "df = df.astype({\"Non-MSA\": int })\n"
   ]
  },
  {
   "cell_type": "code",
   "execution_count": null,
   "id": "e73ec53b",
   "metadata": {},
   "outputs": [],
   "source": [
    "df = df.astype({\"Qualification_Other\": int })\n",
    "df = df.astype({\"Qualification_Grad\": int })\n"
   ]
  },
  {
   "cell_type": "code",
   "execution_count": null,
   "id": "22b0d845",
   "metadata": {},
   "outputs": [],
   "source": [
    "df.shape"
   ]
  },
  {
   "cell_type": "code",
   "execution_count": null,
   "id": "6c0d0628",
   "metadata": {},
   "outputs": [],
   "source": [
    "df.head()"
   ]
  },
  {
   "cell_type": "code",
   "execution_count": null,
   "id": "05a0e94c",
   "metadata": {},
   "outputs": [],
   "source": [
    "# Get independent (x) and dependent variable (y) details\n",
    "x=df.drop(['h1n1_vaccine'],axis=1)\n",
    "y=df[['h1n1_vaccine']]"
   ]
  },
  {
   "cell_type": "code",
   "execution_count": null,
   "id": "a7307733",
   "metadata": {},
   "outputs": [],
   "source": [
    "# do train and test split of the data\n",
    "x_train, x_test, y_train, y_test = train_test_split(x,y,test_size=0.30,random_state=1)"
   ]
  },
  {
   "cell_type": "code",
   "execution_count": null,
   "id": "548be054",
   "metadata": {},
   "outputs": [],
   "source": [
    "#standradize the values to ensure all indpendent variable are on the same scale \n",
    "#standardized_x = StandardScaler().fit_transform(x_train)"
   ]
  },
  {
   "cell_type": "code",
   "execution_count": null,
   "id": "fe05dea5",
   "metadata": {},
   "outputs": [],
   "source": [
    "# fit a model on train data using standradized data\n",
    "model=LogisticRegression(random_state = 13)\n",
    "model.fit(x_train,y_train)"
   ]
  },
  {
   "cell_type": "code",
   "execution_count": null,
   "id": "9b61a2e4",
   "metadata": {},
   "outputs": [],
   "source": [
    "# measure the model performance on training data ( accuracy )\n",
    "model.score(x_train,y_train)"
   ]
  },
  {
   "cell_type": "code",
   "execution_count": null,
   "id": "83279916",
   "metadata": {},
   "outputs": [],
   "source": [
    "model.score(x_test,y_test)"
   ]
  },
  {
   "cell_type": "code",
   "execution_count": null,
   "id": "57bacf06",
   "metadata": {},
   "outputs": [],
   "source": [
    "from sklearn.metrics import auc\n",
    "pred_y=model.predict(x_test) \n",
    "\n",
    "probs_y=model.predict_proba(x_test) \n",
    "  # probs_y is a 2-D array of probability of being labeled as 0 (first   column of   array) vs 1 (2nd column in array)\n",
    "\n",
    "from sklearn.metrics import precision_recall_curve\n",
    "precision, recall, thresholds = precision_recall_curve(y_test, probs_y[:, \n",
    "1]) \n",
    "   #retrieve probability of being 1(in second column of probs_y)\n",
    "pr_auc = auc(recall, precision)\n",
    "\n",
    "plt.title(\"Precision-Recall vs Threshold Chart\")\n",
    "plt.plot(thresholds, precision[: -1], \"b--\", label=\"Precision\")\n",
    "plt.plot(thresholds, recall[: -1], \"r--\", label=\"Recall\")\n",
    "plt.ylabel(\"Precision, Recall\")\n",
    "plt.xlabel(\"Threshold\")\n",
    "plt.legend(loc=\"lower left\")\n",
    "plt.ylim([0,1])"
   ]
  },
  {
   "cell_type": "code",
   "execution_count": null,
   "id": "b2e9d289",
   "metadata": {},
   "outputs": [],
   "source": [
    "from sklearn.metrics import classification_report\n",
    "threshold = 0.33\n",
    "\n",
    "print('Valuation of test data with default threshold:')\n",
    "LR_Grid_ytest_THR = ((model.predict_proba(x_test)[:, 1])>= threshold).astype(int)\n",
    "print(classification_report(y_test, model.predict(x_test)))\n",
    "print(\"----------------------------------------------------------------------\")\n",
    "\n",
    "\n",
    "print('Valuation for test data only  (new_threshold):')\n",
    "print(classification_report(y_test, LR_Grid_ytest_THR))"
   ]
  },
  {
   "cell_type": "markdown",
   "id": "3a5059f5",
   "metadata": {},
   "source": [
    "<b> Model performance on both test and train data is consistent although there is a scope for improvement hence this could be a reasonably a better model"
   ]
  },
  {
   "cell_type": "markdown",
   "id": "b2ffd213",
   "metadata": {},
   "source": [
    "<h2> SVM Model Building"
   ]
  },
  {
   "cell_type": "code",
   "execution_count": null,
   "id": "b688d4f3",
   "metadata": {},
   "outputs": [],
   "source": [
    " from sklearn import svm"
   ]
  },
  {
   "cell_type": "code",
   "execution_count": null,
   "id": "9f698fa9",
   "metadata": {},
   "outputs": [],
   "source": [
    "clf = svm.SVC(random_state = 13)"
   ]
  },
  {
   "cell_type": "code",
   "execution_count": null,
   "id": "89ef3e9b",
   "metadata": {},
   "outputs": [],
   "source": [
    "# Fit the model using train data\n",
    "clf.fit(x_train, y_train)"
   ]
  },
  {
   "cell_type": "code",
   "execution_count": null,
   "id": "435f723e",
   "metadata": {},
   "outputs": [],
   "source": [
    "# measure the accuracy of the model score on train data\n",
    "clf.score(x_train,y_train)"
   ]
  },
  {
   "cell_type": "code",
   "execution_count": null,
   "id": "ae6ea8e5",
   "metadata": {},
   "outputs": [],
   "source": [
    "# Measure the accuracy of the model on test data\n",
    "clf.score(x_test, y_test)"
   ]
  },
  {
   "cell_type": "code",
   "execution_count": null,
   "id": "362704e7",
   "metadata": {},
   "outputs": [],
   "source": [
    "\n",
    "print(classification_report(y_test, clf.predict(x_test)))\n",
    "print(\"----------------------------------------------------------------------\")\n"
   ]
  },
  {
   "cell_type": "markdown",
   "id": "3e256bb4",
   "metadata": {},
   "source": [
    "<b> Conclusion is SVM model performance is better than Simple Linear Regression model"
   ]
  },
  {
   "cell_type": "markdown",
   "id": "2745f0b5",
   "metadata": {},
   "source": [
    "## Decision Tree Classifier"
   ]
  },
  {
   "cell_type": "code",
   "execution_count": null,
   "id": "1d6fa333",
   "metadata": {},
   "outputs": [],
   "source": [
    "import numpy as np\n",
    "from sklearn.tree import DecisionTreeClassifier\n",
    "import matplotlib.pyplot as plt\n",
    "\n"
   ]
  },
  {
   "cell_type": "code",
   "execution_count": null,
   "id": "963f7f75",
   "metadata": {},
   "outputs": [],
   "source": [
    "# Build decison tree model with the depth = 2\n",
    "clf_1 = DecisionTreeClassifier(max_depth=2,random_state=13)\n",
    "clf_1.fit(x_train, y_train)\n",
    "score = clf_1.score(x_train, y_train)\n",
    "print(\"Decision Tree with depth 2 score on taining data is\",score)"
   ]
  },
  {
   "cell_type": "code",
   "execution_count": null,
   "id": "d64c5a2b",
   "metadata": {},
   "outputs": [],
   "source": [
    "# Measure the score against test data set\n",
    "score = clf_1.score(x_test, y_test)\n",
    "print(\"Decision Tree with depth 2 score on test data is\",score)"
   ]
  },
  {
   "cell_type": "markdown",
   "id": "355665e2",
   "metadata": {},
   "source": [
    "<b> Building decision tree with max depth = 30"
   ]
  },
  {
   "cell_type": "code",
   "execution_count": null,
   "id": "82cbec60",
   "metadata": {},
   "outputs": [],
   "source": [
    "# Build decison tree model with the depth = 30\n",
    "clf_2 = DecisionTreeClassifier(max_depth=30,random_state=13)\n",
    "clf_2.fit(x_train, y_train)\n",
    "print(\"Decision Tree with depth 2 score on taining data is\",score)"
   ]
  },
  {
   "cell_type": "code",
   "execution_count": null,
   "id": "4a53b58e",
   "metadata": {},
   "outputs": [],
   "source": [
    "# with Max depth = 30, the score on test data is \n",
    "score = clf_2.score(x_test, y_test)\n",
    "score"
   ]
  },
  {
   "cell_type": "markdown",
   "id": "d8505cc5",
   "metadata": {},
   "source": [
    "<b>when the decision is built with max depth =30 it seem to have overfit the data and hence the score is low on test data\n",
    "so we need to find what  is the optimum depth that must be used, GridSearch helps to find it"
   ]
  },
  {
   "cell_type": "code",
   "execution_count": null,
   "id": "6ad01a04",
   "metadata": {},
   "outputs": [],
   "source": [
    "from sklearn.model_selection import GridSearchCV\n",
    "g_cv = GridSearchCV(DecisionTreeClassifier(random_state=13),\n",
    "              param_grid={'max_depth': range(1, 10)},\n",
    "             cv=5, refit=True)\n",
    "\n",
    "g_cv.fit(x_train, y_train)\n",
    "print(\"The optimum max depth is : \")\n",
    "g_cv.best_params_\n",
    "\n"
   ]
  },
  {
   "cell_type": "code",
   "execution_count": null,
   "id": "3dad99db",
   "metadata": {},
   "outputs": [],
   "source": [
    "# with max depth = 4 the score on train data is \n",
    "clf_3 = DecisionTreeClassifier(max_depth=4,random_state=13)\n",
    "clf_3.fit(x_train, y_train)\n",
    "score = clf_3.score(x_train, y_train)\n",
    "print(\"Decision Tree with depth 4 score on taining data is\",score)"
   ]
  },
  {
   "cell_type": "code",
   "execution_count": null,
   "id": "194ef970",
   "metadata": {},
   "outputs": [],
   "source": [
    "# with max depth = 5 the score on test data is \n",
    "clf_3.fit(x_test, y_test)\n",
    "score = clf_3.score(x_test, y_test)\n",
    "print(\"Decision Tree with depth 4 score on taining data is\",score)"
   ]
  },
  {
   "cell_type": "code",
   "execution_count": null,
   "id": "e6d7b01c",
   "metadata": {},
   "outputs": [],
   "source": [
    "\n",
    "print(classification_report(y_test, clf_3.predict(x_test)))\n",
    "print(\"----------------------------------------------------------------------\")"
   ]
  },
  {
   "cell_type": "markdown",
   "id": "41cfe06c",
   "metadata": {},
   "source": [
    "<b> Random Forest Model"
   ]
  },
  {
   "cell_type": "code",
   "execution_count": null,
   "id": "2a92cf88",
   "metadata": {},
   "outputs": [],
   "source": [
    "from sklearn.ensemble import RandomForestClassifier"
   ]
  },
  {
   "cell_type": "code",
   "execution_count": null,
   "id": "23c6d6b9",
   "metadata": {},
   "outputs": [],
   "source": [
    "rnd_clf = RandomForestClassifier(n_estimators=100,max_depth=4, n_jobs = 1)"
   ]
  },
  {
   "cell_type": "code",
   "execution_count": null,
   "id": "b4552bd6",
   "metadata": {},
   "outputs": [],
   "source": [
    "rnd_clf.fit(x_train,y_train)"
   ]
  },
  {
   "cell_type": "code",
   "execution_count": null,
   "id": "009651f3",
   "metadata": {},
   "outputs": [],
   "source": [
    "rnd_clf.score(x_train,y_train) "
   ]
  },
  {
   "cell_type": "code",
   "execution_count": null,
   "id": "875943cd",
   "metadata": {},
   "outputs": [],
   "source": [
    "rnd_clf.score(x_test,y_test) "
   ]
  },
  {
   "cell_type": "code",
   "execution_count": null,
   "id": "64fa0046",
   "metadata": {},
   "outputs": [],
   "source": [
    "\n",
    "print(classification_report(y_test, rnd_clf.predict(x_test)))\n",
    "print(\"----------------------------------------------------------------------\")"
   ]
  },
  {
   "cell_type": "code",
   "execution_count": null,
   "id": "6e6b3ad0",
   "metadata": {},
   "outputs": [],
   "source": [
    "feat_importances = pd.Series(rnd_clf.feature_importances_, index=x_train.columns)\n",
    "feat_importances.nlargest(20).plot(kind='barh')"
   ]
  },
  {
   "cell_type": "markdown",
   "id": "9c75918b",
   "metadata": {},
   "source": [
    "<b> Boosting"
   ]
  },
  {
   "cell_type": "code",
   "execution_count": null,
   "id": "4c787288",
   "metadata": {},
   "outputs": [],
   "source": [
    "from sklearn.ensemble import GradientBoostingClassifier"
   ]
  },
  {
   "cell_type": "code",
   "execution_count": null,
   "id": "bfb5e9c9",
   "metadata": {},
   "outputs": [],
   "source": [
    "gbmodel = GradientBoostingClassifier(max_depth=4, n_estimators=100, learning_rate=1.0)\n",
    "gbmodel.fit(x_train,y_train)\n",
    "gbmodel.score(x_train,y_train)"
   ]
  },
  {
   "cell_type": "code",
   "execution_count": null,
   "id": "f424ab70",
   "metadata": {},
   "outputs": [],
   "source": [
    "gbmodel.score(x_test,y_test)"
   ]
  },
  {
   "cell_type": "code",
   "execution_count": null,
   "id": "a2d2cc0c",
   "metadata": {},
   "outputs": [],
   "source": [
    "\n",
    "print(classification_report(y_test, gbmodel.predict(x_test)))\n",
    "print(\"----------------------------------------------------------------------\")"
   ]
  },
  {
   "cell_type": "markdown",
   "id": "28db70eb",
   "metadata": {},
   "source": [
    "<b> Handle imbalanced dataset and then try with all type of models"
   ]
  },
  {
   "cell_type": "code",
   "execution_count": null,
   "id": "e5cdf493",
   "metadata": {},
   "outputs": [],
   "source": [
    "#!pip install imbalanced-learn"
   ]
  },
  {
   "cell_type": "code",
   "execution_count": null,
   "id": "09411e96",
   "metadata": {},
   "outputs": [],
   "source": [
    "df['h1n1_vaccine'].value_counts()"
   ]
  },
  {
   "cell_type": "code",
   "execution_count": null,
   "id": "c4889714",
   "metadata": {},
   "outputs": [],
   "source": [
    "# the current data set has imbalance, i.e it does not have equal representation for both positive and negative cases\n",
    "\n",
    "df['h1n1_vaccine'].value_counts().plot(kind='bar', title='Class distribution after appying SMOTE', xlabel='Vacinated')\n",
    "plt.show()"
   ]
  },
  {
   "cell_type": "code",
   "execution_count": null,
   "id": "3a3dc2fa",
   "metadata": {},
   "outputs": [],
   "source": [
    "!pip install imblearn"
   ]
  },
  {
   "cell_type": "code",
   "execution_count": null,
   "id": "86d22e48",
   "metadata": {},
   "outputs": [],
   "source": [
    "# using  Synthetic Minority Over-sampling Technique - SMOTE\n",
    "from imblearn.over_sampling import SMOTE\n",
    "x_train_b, x_test_b, y_train_b, y_test_b = train_test_split(x, y, test_size = 0.3, random_state = 0)\n",
    "x_train_b, y_train_b = SMOTE().fit_resample(x_train, y_train['h1n1_vaccine'])\n"
   ]
  },
  {
   "cell_type": "code",
   "execution_count": null,
   "id": "2632d13c",
   "metadata": {},
   "outputs": [],
   "source": [
    "y_train_b.value_counts()"
   ]
  },
  {
   "cell_type": "code",
   "execution_count": null,
   "id": "df2b042f",
   "metadata": {},
   "outputs": [],
   "source": [
    "# After synthetic data added verify if the data is balanced between postive and negative cases\n",
    "pd.Series(y_train_b).value_counts().plot(kind='bar', title='Class distribution after appying SMOTE', xlabel='Vacinated')\n",
    "plt.show()"
   ]
  },
  {
   "cell_type": "code",
   "execution_count": null,
   "id": "b458aa6a",
   "metadata": {},
   "outputs": [],
   "source": [
    "# Train the model with the SMOTE data and verify the score of train dataset\n",
    "gbmodel.fit(x_train_b,y_train_b)\n",
    "gbmodel.score(x_train_b,y_train_b)"
   ]
  },
  {
   "cell_type": "code",
   "execution_count": null,
   "id": "d49bd945",
   "metadata": {},
   "outputs": [],
   "source": [
    "# Verify the accuracy score of test data set\n",
    "gbmodel.score(x_test_b,y_test_b)"
   ]
  },
  {
   "cell_type": "code",
   "execution_count": null,
   "id": "f25eee26",
   "metadata": {},
   "outputs": [],
   "source": [
    "# Verify the classification report\n",
    "print(classification_report(y_test_b, gbmodel.predict(x_test_b)))\n",
    "print(\"----------------------------------------------------------------------\")"
   ]
  },
  {
   "cell_type": "code",
   "execution_count": null,
   "id": "b2e4e2ce",
   "metadata": {},
   "outputs": [],
   "source": []
  }
 ],
 "metadata": {
  "kernelspec": {
   "display_name": "Python 3 (ipykernel)",
   "language": "python",
   "name": "python3"
  },
  "language_info": {
   "codemirror_mode": {
    "name": "ipython",
    "version": 3
   },
   "file_extension": ".py",
   "mimetype": "text/x-python",
   "name": "python",
   "nbconvert_exporter": "python",
   "pygments_lexer": "ipython3",
   "version": "3.9.12"
  }
 },
 "nbformat": 4,
 "nbformat_minor": 5
}
